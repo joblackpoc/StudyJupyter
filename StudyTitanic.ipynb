{
 "cells": [
  {
   "cell_type": "code",
   "execution_count": 1,
   "metadata": {
    "collapsed": true
   },
   "outputs": [],
   "source": [
    "import warnings; warnings.simplefilter('ignore')"
   ]
  },
  {
   "cell_type": "code",
   "execution_count": 2,
   "metadata": {
    "collapsed": true
   },
   "outputs": [],
   "source": [
    "import numpy as np\n",
    "import pandas as pd\n",
    "from pandas import Series, DataFrame\n",
    "import matplotlib.pyplot as plt\n",
    "import seaborn as sns"
   ]
  },
  {
   "cell_type": "code",
   "execution_count": 3,
   "metadata": {
    "collapsed": true
   },
   "outputs": [],
   "source": [
    "%matplotlib inline"
   ]
  },
  {
   "cell_type": "code",
   "execution_count": 4,
   "metadata": {
    "collapsed": true
   },
   "outputs": [],
   "source": [
    "titanics = pd.read_csv('data/train.csv')"
   ]
  },
  {
   "cell_type": "code",
   "execution_count": 5,
   "metadata": {},
   "outputs": [
    {
     "data": {
      "text/html": [
       "<div>\n",
       "<style>\n",
       "    .dataframe thead tr:only-child th {\n",
       "        text-align: right;\n",
       "    }\n",
       "\n",
       "    .dataframe thead th {\n",
       "        text-align: left;\n",
       "    }\n",
       "\n",
       "    .dataframe tbody tr th {\n",
       "        vertical-align: top;\n",
       "    }\n",
       "</style>\n",
       "<table border=\"1\" class=\"dataframe\">\n",
       "  <thead>\n",
       "    <tr style=\"text-align: right;\">\n",
       "      <th></th>\n",
       "      <th>PassengerId</th>\n",
       "      <th>Survived</th>\n",
       "      <th>Pclass</th>\n",
       "      <th>Name</th>\n",
       "      <th>Sex</th>\n",
       "      <th>Age</th>\n",
       "      <th>SibSp</th>\n",
       "      <th>Parch</th>\n",
       "      <th>Ticket</th>\n",
       "      <th>Fare</th>\n",
       "      <th>Cabin</th>\n",
       "      <th>Embarked</th>\n",
       "    </tr>\n",
       "  </thead>\n",
       "  <tbody>\n",
       "    <tr>\n",
       "      <th>0</th>\n",
       "      <td>1</td>\n",
       "      <td>0</td>\n",
       "      <td>3</td>\n",
       "      <td>Braund, Mr. Owen Harris</td>\n",
       "      <td>male</td>\n",
       "      <td>22.0</td>\n",
       "      <td>1</td>\n",
       "      <td>0</td>\n",
       "      <td>A/5 21171</td>\n",
       "      <td>7.2500</td>\n",
       "      <td>NaN</td>\n",
       "      <td>S</td>\n",
       "    </tr>\n",
       "    <tr>\n",
       "      <th>1</th>\n",
       "      <td>2</td>\n",
       "      <td>1</td>\n",
       "      <td>1</td>\n",
       "      <td>Cumings, Mrs. John Bradley (Florence Briggs Th...</td>\n",
       "      <td>female</td>\n",
       "      <td>38.0</td>\n",
       "      <td>1</td>\n",
       "      <td>0</td>\n",
       "      <td>PC 17599</td>\n",
       "      <td>71.2833</td>\n",
       "      <td>C85</td>\n",
       "      <td>C</td>\n",
       "    </tr>\n",
       "    <tr>\n",
       "      <th>2</th>\n",
       "      <td>3</td>\n",
       "      <td>1</td>\n",
       "      <td>3</td>\n",
       "      <td>Heikkinen, Miss. Laina</td>\n",
       "      <td>female</td>\n",
       "      <td>26.0</td>\n",
       "      <td>0</td>\n",
       "      <td>0</td>\n",
       "      <td>STON/O2. 3101282</td>\n",
       "      <td>7.9250</td>\n",
       "      <td>NaN</td>\n",
       "      <td>S</td>\n",
       "    </tr>\n",
       "    <tr>\n",
       "      <th>3</th>\n",
       "      <td>4</td>\n",
       "      <td>1</td>\n",
       "      <td>1</td>\n",
       "      <td>Futrelle, Mrs. Jacques Heath (Lily May Peel)</td>\n",
       "      <td>female</td>\n",
       "      <td>35.0</td>\n",
       "      <td>1</td>\n",
       "      <td>0</td>\n",
       "      <td>113803</td>\n",
       "      <td>53.1000</td>\n",
       "      <td>C123</td>\n",
       "      <td>S</td>\n",
       "    </tr>\n",
       "    <tr>\n",
       "      <th>4</th>\n",
       "      <td>5</td>\n",
       "      <td>0</td>\n",
       "      <td>3</td>\n",
       "      <td>Allen, Mr. William Henry</td>\n",
       "      <td>male</td>\n",
       "      <td>35.0</td>\n",
       "      <td>0</td>\n",
       "      <td>0</td>\n",
       "      <td>373450</td>\n",
       "      <td>8.0500</td>\n",
       "      <td>NaN</td>\n",
       "      <td>S</td>\n",
       "    </tr>\n",
       "  </tbody>\n",
       "</table>\n",
       "</div>"
      ],
      "text/plain": [
       "   PassengerId  Survived  Pclass  \\\n",
       "0            1         0       3   \n",
       "1            2         1       1   \n",
       "2            3         1       3   \n",
       "3            4         1       1   \n",
       "4            5         0       3   \n",
       "\n",
       "                                                Name     Sex   Age  SibSp  \\\n",
       "0                            Braund, Mr. Owen Harris    male  22.0      1   \n",
       "1  Cumings, Mrs. John Bradley (Florence Briggs Th...  female  38.0      1   \n",
       "2                             Heikkinen, Miss. Laina  female  26.0      0   \n",
       "3       Futrelle, Mrs. Jacques Heath (Lily May Peel)  female  35.0      1   \n",
       "4                           Allen, Mr. William Henry    male  35.0      0   \n",
       "\n",
       "   Parch            Ticket     Fare Cabin Embarked  \n",
       "0      0         A/5 21171   7.2500   NaN        S  \n",
       "1      0          PC 17599  71.2833   C85        C  \n",
       "2      0  STON/O2. 3101282   7.9250   NaN        S  \n",
       "3      0            113803  53.1000  C123        S  \n",
       "4      0            373450   8.0500   NaN        S  "
      ]
     },
     "execution_count": 5,
     "metadata": {},
     "output_type": "execute_result"
    }
   ],
   "source": [
    "titanics.head()"
   ]
  },
  {
   "cell_type": "code",
   "execution_count": 6,
   "metadata": {
    "collapsed": true
   },
   "outputs": [],
   "source": [
    "chronic = pd.read_csv('data/dmhtcube.csv')"
   ]
  },
  {
   "cell_type": "code",
   "execution_count": 7,
   "metadata": {},
   "outputs": [
    {
     "data": {
      "text/html": [
       "<div>\n",
       "<style>\n",
       "    .dataframe thead tr:only-child th {\n",
       "        text-align: right;\n",
       "    }\n",
       "\n",
       "    .dataframe thead th {\n",
       "        text-align: left;\n",
       "    }\n",
       "\n",
       "    .dataframe tbody tr th {\n",
       "        vertical-align: top;\n",
       "    }\n",
       "</style>\n",
       "<table border=\"1\" class=\"dataframe\">\n",
       "  <thead>\n",
       "    <tr style=\"text-align: right;\">\n",
       "      <th></th>\n",
       "      <th>hospcode</th>\n",
       "      <th>year</th>\n",
       "      <th>birth</th>\n",
       "      <th>age</th>\n",
       "      <th>age_group</th>\n",
       "      <th>thambon</th>\n",
       "      <th>dm_result</th>\n",
       "      <th>HT_EYE</th>\n",
       "      <th>HT_KIDNEY</th>\n",
       "      <th>HT_HEART</th>\n",
       "      <th>HT_BRAIN</th>\n",
       "      <th>HT_FOOT</th>\n",
       "      <th>HT_OTHER</th>\n",
       "      <th>DM_EYE</th>\n",
       "      <th>DM_KIDNEY</th>\n",
       "      <th>DM_HEART</th>\n",
       "      <th>DM_BRAIN</th>\n",
       "      <th>DM_FOOT</th>\n",
       "      <th>DM_OTHER</th>\n",
       "    </tr>\n",
       "  </thead>\n",
       "  <tbody>\n",
       "    <tr>\n",
       "      <th>0</th>\n",
       "      <td>9406</td>\n",
       "      <td>2555</td>\n",
       "      <td>19890101</td>\n",
       "      <td>23</td>\n",
       "      <td>15 - 35</td>\n",
       "      <td>1</td>\n",
       "      <td>no</td>\n",
       "      <td>N</td>\n",
       "      <td>N</td>\n",
       "      <td>N</td>\n",
       "      <td>N</td>\n",
       "      <td>N</td>\n",
       "      <td>N</td>\n",
       "      <td>N</td>\n",
       "      <td>N</td>\n",
       "      <td>N</td>\n",
       "      <td>N</td>\n",
       "      <td>N</td>\n",
       "      <td>N</td>\n",
       "    </tr>\n",
       "    <tr>\n",
       "      <th>1</th>\n",
       "      <td>9383</td>\n",
       "      <td>2555</td>\n",
       "      <td>20060701</td>\n",
       "      <td>6</td>\n",
       "      <td>0 - 14</td>\n",
       "      <td>3</td>\n",
       "      <td>no</td>\n",
       "      <td>N</td>\n",
       "      <td>N</td>\n",
       "      <td>N</td>\n",
       "      <td>N</td>\n",
       "      <td>N</td>\n",
       "      <td>N</td>\n",
       "      <td>N</td>\n",
       "      <td>N</td>\n",
       "      <td>N</td>\n",
       "      <td>N</td>\n",
       "      <td>N</td>\n",
       "      <td>N</td>\n",
       "    </tr>\n",
       "    <tr>\n",
       "      <th>2</th>\n",
       "      <td>9406</td>\n",
       "      <td>2555</td>\n",
       "      <td>19770101</td>\n",
       "      <td>35</td>\n",
       "      <td>15 - 35</td>\n",
       "      <td>1</td>\n",
       "      <td>no</td>\n",
       "      <td>N</td>\n",
       "      <td>N</td>\n",
       "      <td>N</td>\n",
       "      <td>N</td>\n",
       "      <td>N</td>\n",
       "      <td>N</td>\n",
       "      <td>N</td>\n",
       "      <td>N</td>\n",
       "      <td>N</td>\n",
       "      <td>N</td>\n",
       "      <td>N</td>\n",
       "      <td>N</td>\n",
       "    </tr>\n",
       "    <tr>\n",
       "      <th>3</th>\n",
       "      <td>9406</td>\n",
       "      <td>2555</td>\n",
       "      <td>19901214</td>\n",
       "      <td>21</td>\n",
       "      <td>15 - 35</td>\n",
       "      <td>1</td>\n",
       "      <td>no</td>\n",
       "      <td>N</td>\n",
       "      <td>N</td>\n",
       "      <td>N</td>\n",
       "      <td>N</td>\n",
       "      <td>N</td>\n",
       "      <td>N</td>\n",
       "      <td>N</td>\n",
       "      <td>N</td>\n",
       "      <td>N</td>\n",
       "      <td>N</td>\n",
       "      <td>N</td>\n",
       "      <td>N</td>\n",
       "    </tr>\n",
       "    <tr>\n",
       "      <th>4</th>\n",
       "      <td>9406</td>\n",
       "      <td>2555</td>\n",
       "      <td>19740101</td>\n",
       "      <td>38</td>\n",
       "      <td>35 - 60</td>\n",
       "      <td>1</td>\n",
       "      <td>no</td>\n",
       "      <td>N</td>\n",
       "      <td>N</td>\n",
       "      <td>N</td>\n",
       "      <td>N</td>\n",
       "      <td>N</td>\n",
       "      <td>N</td>\n",
       "      <td>N</td>\n",
       "      <td>N</td>\n",
       "      <td>N</td>\n",
       "      <td>N</td>\n",
       "      <td>N</td>\n",
       "      <td>N</td>\n",
       "    </tr>\n",
       "  </tbody>\n",
       "</table>\n",
       "</div>"
      ],
      "text/plain": [
       "   hospcode  year     birth  age age_group  thambon dm_result HT_EYE  \\\n",
       "0      9406  2555  19890101   23   15 - 35        1        no      N   \n",
       "1      9383  2555  20060701    6    0 - 14        3        no      N   \n",
       "2      9406  2555  19770101   35   15 - 35        1        no      N   \n",
       "3      9406  2555  19901214   21   15 - 35        1        no      N   \n",
       "4      9406  2555  19740101   38   35 - 60        1        no      N   \n",
       "\n",
       "  HT_KIDNEY HT_HEART HT_BRAIN HT_FOOT HT_OTHER DM_EYE DM_KIDNEY DM_HEART  \\\n",
       "0         N        N        N       N        N      N         N        N   \n",
       "1         N        N        N       N        N      N         N        N   \n",
       "2         N        N        N       N        N      N         N        N   \n",
       "3         N        N        N       N        N      N         N        N   \n",
       "4         N        N        N       N        N      N         N        N   \n",
       "\n",
       "  DM_BRAIN DM_FOOT DM_OTHER  \n",
       "0        N       N        N  \n",
       "1        N       N        N  \n",
       "2        N       N        N  \n",
       "3        N       N        N  \n",
       "4        N       N        N  "
      ]
     },
     "execution_count": 7,
     "metadata": {},
     "output_type": "execute_result"
    }
   ],
   "source": [
    "chronic.head()"
   ]
  },
  {
   "cell_type": "code",
   "execution_count": 8,
   "metadata": {},
   "outputs": [
    {
     "name": "stdout",
     "output_type": "stream",
     "text": [
      "<class 'pandas.core.frame.DataFrame'>\n",
      "RangeIndex: 63905 entries, 0 to 63904\n",
      "Data columns (total 19 columns):\n",
      "hospcode     63905 non-null int64\n",
      "year         63905 non-null int64\n",
      "birth        63905 non-null int64\n",
      "age          63905 non-null int64\n",
      "age_group    63905 non-null object\n",
      "thambon      63905 non-null int64\n",
      "dm_result    63905 non-null object\n",
      "HT_EYE       63905 non-null object\n",
      "HT_KIDNEY    63905 non-null object\n",
      "HT_HEART     63905 non-null object\n",
      "HT_BRAIN     63905 non-null object\n",
      "HT_FOOT      63905 non-null object\n",
      "HT_OTHER     63905 non-null object\n",
      "DM_EYE       63905 non-null object\n",
      "DM_KIDNEY    63905 non-null object\n",
      "DM_HEART     63905 non-null object\n",
      "DM_BRAIN     63905 non-null object\n",
      "DM_FOOT      63905 non-null object\n",
      "DM_OTHER     63905 non-null object\n",
      "dtypes: int64(5), object(14)\n",
      "memory usage: 9.3+ MB\n"
     ]
    }
   ],
   "source": [
    "chronic.info()"
   ]
  },
  {
   "cell_type": "code",
   "execution_count": 9,
   "metadata": {},
   "outputs": [
    {
     "data": {
      "text/plain": [
       "15 - 35     18549\n",
       "0 - 14      18281\n",
       "35 - 60     14537\n",
       "61 - 100    12409\n",
       "100+          129\n",
       "Name: age_group, dtype: int64"
      ]
     },
     "execution_count": 9,
     "metadata": {},
     "output_type": "execute_result"
    }
   ],
   "source": [
    "chronic['age_group'].value_counts()"
   ]
  },
  {
   "cell_type": "code",
   "execution_count": 31,
   "metadata": {},
   "outputs": [
    {
     "data": {
      "text/plain": [
       "2557    22299\n",
       "2556    21629\n",
       "2555    19977\n",
       "Name: year, dtype: int64"
      ]
     },
     "execution_count": 31,
     "metadata": {},
     "output_type": "execute_result"
    }
   ],
   "source": [
    "chronic['year'].value_counts()"
   ]
  },
  {
   "cell_type": "code",
   "execution_count": 32,
   "metadata": {},
   "outputs": [
    {
     "data": {
      "text/html": [
       "<div>\n",
       "<style>\n",
       "    .dataframe thead tr:only-child th {\n",
       "        text-align: right;\n",
       "    }\n",
       "\n",
       "    .dataframe thead th {\n",
       "        text-align: left;\n",
       "    }\n",
       "\n",
       "    .dataframe tbody tr th {\n",
       "        vertical-align: top;\n",
       "    }\n",
       "</style>\n",
       "<table border=\"1\" class=\"dataframe\">\n",
       "  <thead>\n",
       "    <tr style=\"text-align: right;\">\n",
       "      <th></th>\n",
       "      <th>hospcode</th>\n",
       "      <th>year</th>\n",
       "      <th>birth</th>\n",
       "      <th>age</th>\n",
       "      <th>age_group</th>\n",
       "      <th>thambon</th>\n",
       "      <th>dm_result</th>\n",
       "      <th>HT_EYE</th>\n",
       "      <th>HT_KIDNEY</th>\n",
       "      <th>HT_HEART</th>\n",
       "      <th>HT_BRAIN</th>\n",
       "      <th>HT_FOOT</th>\n",
       "      <th>HT_OTHER</th>\n",
       "      <th>DM_EYE</th>\n",
       "      <th>DM_KIDNEY</th>\n",
       "      <th>DM_HEART</th>\n",
       "      <th>DM_BRAIN</th>\n",
       "      <th>DM_FOOT</th>\n",
       "      <th>DM_OTHER</th>\n",
       "    </tr>\n",
       "  </thead>\n",
       "  <tbody>\n",
       "    <tr>\n",
       "      <th>0</th>\n",
       "      <td>9406</td>\n",
       "      <td>2555</td>\n",
       "      <td>19890101</td>\n",
       "      <td>23</td>\n",
       "      <td>15 - 35</td>\n",
       "      <td>1</td>\n",
       "      <td>no</td>\n",
       "      <td>N</td>\n",
       "      <td>N</td>\n",
       "      <td>N</td>\n",
       "      <td>N</td>\n",
       "      <td>N</td>\n",
       "      <td>N</td>\n",
       "      <td>N</td>\n",
       "      <td>N</td>\n",
       "      <td>N</td>\n",
       "      <td>N</td>\n",
       "      <td>N</td>\n",
       "      <td>N</td>\n",
       "    </tr>\n",
       "    <tr>\n",
       "      <th>1</th>\n",
       "      <td>9383</td>\n",
       "      <td>2555</td>\n",
       "      <td>20060701</td>\n",
       "      <td>6</td>\n",
       "      <td>0 - 14</td>\n",
       "      <td>3</td>\n",
       "      <td>no</td>\n",
       "      <td>N</td>\n",
       "      <td>N</td>\n",
       "      <td>N</td>\n",
       "      <td>N</td>\n",
       "      <td>N</td>\n",
       "      <td>N</td>\n",
       "      <td>N</td>\n",
       "      <td>N</td>\n",
       "      <td>N</td>\n",
       "      <td>N</td>\n",
       "      <td>N</td>\n",
       "      <td>N</td>\n",
       "    </tr>\n",
       "    <tr>\n",
       "      <th>2</th>\n",
       "      <td>9406</td>\n",
       "      <td>2555</td>\n",
       "      <td>19770101</td>\n",
       "      <td>35</td>\n",
       "      <td>15 - 35</td>\n",
       "      <td>1</td>\n",
       "      <td>no</td>\n",
       "      <td>N</td>\n",
       "      <td>N</td>\n",
       "      <td>N</td>\n",
       "      <td>N</td>\n",
       "      <td>N</td>\n",
       "      <td>N</td>\n",
       "      <td>N</td>\n",
       "      <td>N</td>\n",
       "      <td>N</td>\n",
       "      <td>N</td>\n",
       "      <td>N</td>\n",
       "      <td>N</td>\n",
       "    </tr>\n",
       "    <tr>\n",
       "      <th>3</th>\n",
       "      <td>9406</td>\n",
       "      <td>2555</td>\n",
       "      <td>19901214</td>\n",
       "      <td>21</td>\n",
       "      <td>15 - 35</td>\n",
       "      <td>1</td>\n",
       "      <td>no</td>\n",
       "      <td>N</td>\n",
       "      <td>N</td>\n",
       "      <td>N</td>\n",
       "      <td>N</td>\n",
       "      <td>N</td>\n",
       "      <td>N</td>\n",
       "      <td>N</td>\n",
       "      <td>N</td>\n",
       "      <td>N</td>\n",
       "      <td>N</td>\n",
       "      <td>N</td>\n",
       "      <td>N</td>\n",
       "    </tr>\n",
       "    <tr>\n",
       "      <th>4</th>\n",
       "      <td>9406</td>\n",
       "      <td>2555</td>\n",
       "      <td>19740101</td>\n",
       "      <td>38</td>\n",
       "      <td>35 - 60</td>\n",
       "      <td>1</td>\n",
       "      <td>no</td>\n",
       "      <td>N</td>\n",
       "      <td>N</td>\n",
       "      <td>N</td>\n",
       "      <td>N</td>\n",
       "      <td>N</td>\n",
       "      <td>N</td>\n",
       "      <td>N</td>\n",
       "      <td>N</td>\n",
       "      <td>N</td>\n",
       "      <td>N</td>\n",
       "      <td>N</td>\n",
       "      <td>N</td>\n",
       "    </tr>\n",
       "  </tbody>\n",
       "</table>\n",
       "</div>"
      ],
      "text/plain": [
       "   hospcode  year     birth  age age_group  thambon dm_result HT_EYE  \\\n",
       "0      9406  2555  19890101   23   15 - 35        1        no      N   \n",
       "1      9383  2555  20060701    6    0 - 14        3        no      N   \n",
       "2      9406  2555  19770101   35   15 - 35        1        no      N   \n",
       "3      9406  2555  19901214   21   15 - 35        1        no      N   \n",
       "4      9406  2555  19740101   38   35 - 60        1        no      N   \n",
       "\n",
       "  HT_KIDNEY HT_HEART HT_BRAIN HT_FOOT HT_OTHER DM_EYE DM_KIDNEY DM_HEART  \\\n",
       "0         N        N        N       N        N      N         N        N   \n",
       "1         N        N        N       N        N      N         N        N   \n",
       "2         N        N        N       N        N      N         N        N   \n",
       "3         N        N        N       N        N      N         N        N   \n",
       "4         N        N        N       N        N      N         N        N   \n",
       "\n",
       "  DM_BRAIN DM_FOOT DM_OTHER  \n",
       "0        N       N        N  \n",
       "1        N       N        N  \n",
       "2        N       N        N  \n",
       "3        N       N        N  \n",
       "4        N       N        N  "
      ]
     },
     "execution_count": 32,
     "metadata": {},
     "output_type": "execute_result"
    }
   ],
   "source": [
    "chronic.head()"
   ]
  },
  {
   "cell_type": "code",
   "execution_count": 36,
   "metadata": {},
   "outputs": [
    {
     "data": {
      "text/plain": [
       "(63905, 19)"
      ]
     },
     "execution_count": 36,
     "metadata": {},
     "output_type": "execute_result"
    }
   ],
   "source": [
    "chronic.shape"
   ]
  },
  {
   "cell_type": "code",
   "execution_count": 42,
   "metadata": {},
   "outputs": [
    {
     "data": {
      "text/plain": [
       "<matplotlib.axes._subplots.AxesSubplot at 0xe32ea20>"
      ]
     },
     "execution_count": 42,
     "metadata": {},
     "output_type": "execute_result"
    },
    {
     "data": {
      "image/png": "[encoded data removed]",
      "text/plain": [
       "<matplotlib.figure.Figure at 0xe51cef0>"
      ]
     },
     "metadata": {},
     "output_type": "display_data"
    }
   ],
   "source": [
    "chronic.mean().plot()"
   ]
  },
  {
   "cell_type": "code",
   "execution_count": 46,
   "metadata": {},
   "outputs": [
    {
     "name": "stdout",
     "output_type": "stream",
     "text": [
      "304\n",
      "-1\n"
     ]
    }
   ],
   "source": [
    "print(chronic['age'].max())\n",
    "print(chronic['age'].min())"
   ]
  },
  {
   "cell_type": "code",
   "execution_count": 47,
   "metadata": {},
   "outputs": [
    {
     "name": "stdout",
     "output_type": "stream",
     "text": [
      "304\n",
      "-1\n",
      "34.0\n"
     ]
    }
   ],
   "source": [
    "print(np.round(chronic['age'].max()))\n",
    "print(np.round(chronic['age'].min()))\n",
    "print(np.round(chronic['age'].mean()))"
   ]
  },
  {
   "cell_type": "code",
   "execution_count": 41,
   "metadata": {},
   "outputs": [
    {
     "data": {
      "text/plain": [
       "11378    4787\n",
       "11381    3231\n",
       "9406     2880\n",
       "24052    2773\n",
       "11375    1576\n",
       "9374     1509\n",
       "9383     1402\n",
       "11380    1396\n",
       "11383    1392\n",
       "9380     1126\n",
       "9365     1046\n",
       "9354     1003\n",
       "9381      996\n",
       "11385     983\n",
       "9434      968\n",
       "9376      958\n",
       "9350      936\n",
       "9363      911\n",
       "9356      901\n",
       "9375      892\n",
       "11382     892\n",
       "15113     890\n",
       "77765     857\n",
       "15046     851\n",
       "14452     823\n",
       "9384      811\n",
       "9426      738\n",
       "9347      694\n",
       "9420      692\n",
       "9368      679\n",
       "         ... \n",
       "9428      196\n",
       "9393      183\n",
       "9355      182\n",
       "9395      175\n",
       "11376     174\n",
       "9371      174\n",
       "9417      170\n",
       "9379      167\n",
       "9385      167\n",
       "14913     144\n",
       "9392      133\n",
       "9402      128\n",
       "9412      127\n",
       "9369      120\n",
       "9389      117\n",
       "9419      117\n",
       "9403      117\n",
       "9377      114\n",
       "14094     114\n",
       "9413      111\n",
       "11377      98\n",
       "9405       97\n",
       "9396       96\n",
       "9414       86\n",
       "9387       78\n",
       "14093      74\n",
       "9433       73\n",
       "9400       65\n",
       "14091      39\n",
       "9397       33\n",
       "Name: hospcode, Length: 109, dtype: int64"
      ]
     },
     "execution_count": 41,
     "metadata": {},
     "output_type": "execute_result"
    }
   ],
   "source": [
    "chronic['hospcode'].value_counts()"
   ]
  },
  {
   "cell_type": "code",
   "execution_count": 13,
   "metadata": {},
   "outputs": [
    {
     "data": {
      "text/plain": [
       "<seaborn.axisgrid.FacetGrid at 0xb678be0>"
      ]
     },
     "execution_count": 13,
     "metadata": {},
     "output_type": "execute_result"
    },
    {
     "data": {
      "image/png": "[encoded data removed]",
      "text/plain": [
       "<matplotlib.figure.Figure at 0xb678dd8>"
      ]
     },
     "metadata": {},
     "output_type": "display_data"
    }
   ],
   "source": [
    "sns.factorplot('age_group','year',data=chronic)"
   ]
  },
  {
   "cell_type": "code",
   "execution_count": 14,
   "metadata": {},
   "outputs": [
    {
     "data": {
      "text/plain": [
       "<seaborn.axisgrid.FacetGrid at 0xa5662b0>"
      ]
     },
     "execution_count": 14,
     "metadata": {},
     "output_type": "execute_result"
    },
    {
     "data": {
      "image/png": "[encoded data removed]",
      "text/plain": [
       "<matplotlib.figure.Figure at 0x49f1128>"
      ]
     },
     "metadata": {},
     "output_type": "display_data"
    }
   ],
   "source": [
    "sns.factorplot('age_group', data=chronic,kind='count')"
   ]
  },
  {
   "cell_type": "code",
   "execution_count": 18,
   "metadata": {},
   "outputs": [
    {
     "data": {
      "text/plain": [
       "<matplotlib.axes._subplots.AxesSubplot at 0xc1eb940>"
      ]
     },
     "execution_count": 18,
     "metadata": {},
     "output_type": "execute_result"
    },
    {
     "data": {
      "image/png": "[encoded data removed]",
      "text/plain": [
       "<matplotlib.figure.Figure at 0xbe43860>"
      ]
     },
     "metadata": {},
     "output_type": "display_data"
    }
   ],
   "source": [
    "chronic['age'].hist(bins=20)"
   ]
  },
  {
   "cell_type": "code",
   "execution_count": 20,
   "metadata": {},
   "outputs": [
    {
     "data": {
      "text/plain": [
       "<matplotlib.axes._subplots.AxesSubplot at 0xcc51ef0>"
      ]
     },
     "execution_count": 20,
     "metadata": {},
     "output_type": "execute_result"
    },
    {
     "data": {
      "image/png": "[encoded data removed]",
      "text/plain": [
       "<matplotlib.figure.Figure at 0xcc33ac8>"
      ]
     },
     "metadata": {},
     "output_type": "display_data"
    }
   ],
   "source": [
    "sns.distplot(chronic['age'].dropna())"
   ]
  },
  {
   "cell_type": "code",
   "execution_count": 22,
   "metadata": {},
   "outputs": [
    {
     "data": {
      "text/plain": [
       "<seaborn.axisgrid.FacetGrid at 0xcd97f60>"
      ]
     },
     "execution_count": 22,
     "metadata": {},
     "output_type": "execute_result"
    },
    {
     "data": {
      "image/png": "[encoded data removed]",
      "text/plain": [
       "<matplotlib.figure.Figure at 0xcda8748>"
      ]
     },
     "metadata": {},
     "output_type": "display_data"
    }
   ],
   "source": [
    "fig = sns.FacetGrid(chronic,hue='age_group', aspect=4)\n",
    "fig.map(sns.kdeplot,'age',shade='True')\n",
    "oldest = chronic['age'].max()\n",
    "fig.set(xlim=(0,oldest))\n",
    "fig.add_legend()"
   ]
  },
  {
   "cell_type": "code",
   "execution_count": 26,
   "metadata": {},
   "outputs": [
    {
     "data": {
      "text/plain": [
       "<seaborn.axisgrid.FacetGrid at 0xd196ba8>"
      ]
     },
     "execution_count": 26,
     "metadata": {},
     "output_type": "execute_result"
    },
    {
     "data": {
      "image/png": "[encoded data removed]",
      "text/plain": [
       "<matplotlib.figure.Figure at 0xd1969e8>"
      ]
     },
     "metadata": {},
     "output_type": "display_data"
    }
   ],
   "source": [
    "fig = sns.FacetGrid(chronic,hue='age_group',aspect=4)\n",
    "fig.map(sns.kdeplot,'age',shade='True')\n",
    "oldest = chronic['age'].max()\n",
    "fig.set(xlim=(0,oldest))\n",
    "fig.add_legend()"
   ]
  },
  {
   "cell_type": "code",
   "execution_count": 29,
   "metadata": {},
   "outputs": [
    {
     "data": {
      "text/plain": [
       "<seaborn.axisgrid.FacetGrid at 0xe6ab908>"
      ]
     },
     "execution_count": 29,
     "metadata": {},
     "output_type": "execute_result"
    },
    {
     "data": {
      "image/png": "[encoded data removed]",
      "text/plain": [
       "<matplotlib.figure.Figure at 0xbfb3240>"
      ]
     },
     "metadata": {},
     "output_type": "display_data"
    }
   ],
   "source": [
    "fig = sns.FacetGrid(chronic,hue='year',aspect=4)\n",
    "fig.map(sns.kdeplot,'age',shade='True')\n",
    "oldest = chronic['age'].max()\n",
    "fig.set(xlim=(0,oldest))\n",
    "fig.add_legend()"
   ]
  }
 ],
 "metadata": {
  "kernelspec": {
   "display_name": "Python 3",
   "language": "python",
   "name": "python3"
  },
  "language_info": {
   "codemirror_mode": {
    "name": "ipython",
    "version": 3
   },
   "file_extension": ".py",
   "mimetype": "text/x-python",
   "name": "python",
   "nbconvert_exporter": "python",
   "pygments_lexer": "ipython3",
   "version": "3.6.1"
  }
 },
 "nbformat": 4,
 "nbformat_minor": 2
}
