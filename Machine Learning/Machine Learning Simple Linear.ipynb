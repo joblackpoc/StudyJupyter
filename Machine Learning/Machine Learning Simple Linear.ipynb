{
 "cells": [
  {
   "cell_type": "code",
   "execution_count": 1,
   "metadata": {},
   "outputs": [],
   "source": [
    "import pandas as pd\n",
    "import seaborn as sns\n",
    "import numpy as np\n",
    "import matplotlib.pyplot as plt\n",
    "%matplotlib inline\n",
    "%config InlineBackend.figure_format = 'retina'"
   ]
  },
  {
   "cell_type": "code",
   "execution_count": 2,
   "metadata": {},
   "outputs": [
    {
     "name": "stdout",
     "output_type": "stream",
     "text": [
      "pandas version: 0.24.2\n",
      "numpy version: 1.16.4\n",
      "seaborn version: 0.9.0\n"
     ]
    }
   ],
   "source": [
    "print(f'pandas version: {pd.__version__}')\n",
    "print(f'numpy version: {np.__version__}')\n",
    "print(f'seaborn version: {sns.__version__}')"
   ]
  },
  {
   "cell_type": "code",
   "execution_count": 3,
   "metadata": {},
   "outputs": [
    {
     "data": {
      "text/html": [
       "<div>\n",
       "<style scoped>\n",
       "    .dataframe tbody tr th:only-of-type {\n",
       "        vertical-align: middle;\n",
       "    }\n",
       "\n",
       "    .dataframe tbody tr th {\n",
       "        vertical-align: top;\n",
       "    }\n",
       "\n",
       "    .dataframe thead th {\n",
       "        text-align: right;\n",
       "    }\n",
       "</style>\n",
       "<table border=\"1\" class=\"dataframe\">\n",
       "  <thead>\n",
       "    <tr style=\"text-align: right;\">\n",
       "      <th></th>\n",
       "      <th>date</th>\n",
       "      <th>iso_a3</th>\n",
       "      <th>currency_code</th>\n",
       "      <th>name</th>\n",
       "      <th>local_price</th>\n",
       "      <th>dollar_ex</th>\n",
       "      <th>dollar_price</th>\n",
       "      <th>GDP_dollar</th>\n",
       "      <th>adj_price</th>\n",
       "      <th>USD</th>\n",
       "      <th>EUR</th>\n",
       "      <th>GBP</th>\n",
       "      <th>JPY</th>\n",
       "      <th>CNY</th>\n",
       "    </tr>\n",
       "  </thead>\n",
       "  <tbody>\n",
       "    <tr>\n",
       "      <th>0</th>\n",
       "      <td>2011-07-01</td>\n",
       "      <td>ARG</td>\n",
       "      <td>ARS</td>\n",
       "      <td>Argentina</td>\n",
       "      <td>20.00</td>\n",
       "      <td>4.132500</td>\n",
       "      <td>4.839685</td>\n",
       "      <td>9138.177</td>\n",
       "      <td>3.149757</td>\n",
       "      <td>1.011</td>\n",
       "      <td>0.475</td>\n",
       "      <td>0.850</td>\n",
       "      <td>0.906</td>\n",
       "      <td>0.946</td>\n",
       "    </tr>\n",
       "    <tr>\n",
       "      <th>1</th>\n",
       "      <td>2011-07-01</td>\n",
       "      <td>AUS</td>\n",
       "      <td>AUD</td>\n",
       "      <td>Australia</td>\n",
       "      <td>4.56</td>\n",
       "      <td>0.922382</td>\n",
       "      <td>4.943724</td>\n",
       "      <td>55589.549</td>\n",
       "      <td>5.792526</td>\n",
       "      <td>0.117</td>\n",
       "      <td>-0.181</td>\n",
       "      <td>0.027</td>\n",
       "      <td>0.059</td>\n",
       "      <td>0.081</td>\n",
       "    </tr>\n",
       "    <tr>\n",
       "      <th>2</th>\n",
       "      <td>2011-07-01</td>\n",
       "      <td>BRA</td>\n",
       "      <td>BRL</td>\n",
       "      <td>Brazil</td>\n",
       "      <td>9.50</td>\n",
       "      <td>1.541600</td>\n",
       "      <td>6.162429</td>\n",
       "      <td>10816.487</td>\n",
       "      <td>3.245241</td>\n",
       "      <td>1.485</td>\n",
       "      <td>0.823</td>\n",
       "      <td>1.286</td>\n",
       "      <td>1.356</td>\n",
       "      <td>1.405</td>\n",
       "    </tr>\n",
       "    <tr>\n",
       "      <th>3</th>\n",
       "      <td>2011-07-01</td>\n",
       "      <td>GBR</td>\n",
       "      <td>GBP</td>\n",
       "      <td>Britain</td>\n",
       "      <td>2.39</td>\n",
       "      <td>0.614137</td>\n",
       "      <td>3.891637</td>\n",
       "      <td>36119.846</td>\n",
       "      <td>4.684831</td>\n",
       "      <td>0.087</td>\n",
       "      <td>-0.202</td>\n",
       "      <td>0.000</td>\n",
       "      <td>0.031</td>\n",
       "      <td>0.052</td>\n",
       "    </tr>\n",
       "    <tr>\n",
       "      <th>4</th>\n",
       "      <td>2011-07-01</td>\n",
       "      <td>CAN</td>\n",
       "      <td>CAD</td>\n",
       "      <td>Canada</td>\n",
       "      <td>4.73</td>\n",
       "      <td>0.945850</td>\n",
       "      <td>5.000793</td>\n",
       "      <td>46214.914</td>\n",
       "      <td>5.259173</td>\n",
       "      <td>0.244</td>\n",
       "      <td>-0.087</td>\n",
       "      <td>0.145</td>\n",
       "      <td>0.180</td>\n",
       "      <td>0.204</td>\n",
       "    </tr>\n",
       "  </tbody>\n",
       "</table>\n",
       "</div>"
      ],
      "text/plain": [
       "        date iso_a3 currency_code       name  local_price  dollar_ex  \\\n",
       "0 2011-07-01    ARG           ARS  Argentina        20.00   4.132500   \n",
       "1 2011-07-01    AUS           AUD  Australia         4.56   0.922382   \n",
       "2 2011-07-01    BRA           BRL     Brazil         9.50   1.541600   \n",
       "3 2011-07-01    GBR           GBP    Britain         2.39   0.614137   \n",
       "4 2011-07-01    CAN           CAD     Canada         4.73   0.945850   \n",
       "\n",
       "   dollar_price  GDP_dollar  adj_price    USD    EUR    GBP    JPY    CNY  \n",
       "0      4.839685    9138.177   3.149757  1.011  0.475  0.850  0.906  0.946  \n",
       "1      4.943724   55589.549   5.792526  0.117 -0.181  0.027  0.059  0.081  \n",
       "2      6.162429   10816.487   3.245241  1.485  0.823  1.286  1.356  1.405  \n",
       "3      3.891637   36119.846   4.684831  0.087 -0.202  0.000  0.031  0.052  \n",
       "4      5.000793   46214.914   5.259173  0.244 -0.087  0.145  0.180  0.204  "
      ]
     },
     "execution_count": 3,
     "metadata": {},
     "output_type": "execute_result"
    }
   ],
   "source": [
    "url='https://raw.githubusercontent.com/TheEconomist/big-mac-data/master/output-data/big-mac-adjusted-index.csv'\n",
    "df=pd.read_csv(url, parse_dates=['date'])\n",
    "df.head()"
   ]
  },
  {
   "cell_type": "code",
   "execution_count": 4,
   "metadata": {},
   "outputs": [
    {
     "name": "stdout",
     "output_type": "stream",
     "text": [
      "<class 'pandas.core.frame.DataFrame'>\n",
      "RangeIndex: 591 entries, 0 to 590\n",
      "Data columns (total 14 columns):\n",
      "date             591 non-null datetime64[ns]\n",
      "iso_a3           591 non-null object\n",
      "currency_code    591 non-null object\n",
      "name             591 non-null object\n",
      "local_price      591 non-null float64\n",
      "dollar_ex        591 non-null float64\n",
      "dollar_price     591 non-null float64\n",
      "GDP_dollar       591 non-null float64\n",
      "adj_price        591 non-null float64\n",
      "USD              591 non-null float64\n",
      "EUR              591 non-null float64\n",
      "GBP              591 non-null float64\n",
      "JPY              591 non-null float64\n",
      "CNY              591 non-null float64\n",
      "dtypes: datetime64[ns](1), float64(10), object(3)\n",
      "memory usage: 64.7+ KB\n"
     ]
    }
   ],
   "source": [
    "df.info()"
   ]
  },
  {
   "cell_type": "code",
   "execution_count": 5,
   "metadata": {},
   "outputs": [
    {
     "data": {
      "text/html": [
       "<div>\n",
       "<style scoped>\n",
       "    .dataframe tbody tr th:only-of-type {\n",
       "        vertical-align: middle;\n",
       "    }\n",
       "\n",
       "    .dataframe tbody tr th {\n",
       "        vertical-align: top;\n",
       "    }\n",
       "\n",
       "    .dataframe thead th {\n",
       "        text-align: right;\n",
       "    }\n",
       "</style>\n",
       "<table border=\"1\" class=\"dataframe\">\n",
       "  <thead>\n",
       "    <tr style=\"text-align: right;\">\n",
       "      <th></th>\n",
       "      <th>date</th>\n",
       "      <th>iso_a3</th>\n",
       "      <th>currency_code</th>\n",
       "      <th>name</th>\n",
       "      <th>local_price</th>\n",
       "      <th>dollar_ex</th>\n",
       "      <th>dollar_price</th>\n",
       "      <th>GDP_dollar</th>\n",
       "      <th>adj_price</th>\n",
       "      <th>USD</th>\n",
       "      <th>EUR</th>\n",
       "      <th>GBP</th>\n",
       "      <th>JPY</th>\n",
       "      <th>CNY</th>\n",
       "    </tr>\n",
       "  </thead>\n",
       "  <tbody>\n",
       "    <tr>\n",
       "      <th>554</th>\n",
       "      <td>2019-01-01</td>\n",
       "      <td>ARG</td>\n",
       "      <td>ARS</td>\n",
       "      <td>Argentina</td>\n",
       "      <td>75.00</td>\n",
       "      <td>37.455000</td>\n",
       "      <td>2.002403</td>\n",
       "      <td>14462.920</td>\n",
       "      <td>3.165211</td>\n",
       "      <td>-0.419</td>\n",
       "      <td>-0.434</td>\n",
       "      <td>-0.338</td>\n",
       "      <td>-0.261</td>\n",
       "      <td>-0.396</td>\n",
       "    </tr>\n",
       "    <tr>\n",
       "      <th>555</th>\n",
       "      <td>2019-01-01</td>\n",
       "      <td>AUS</td>\n",
       "      <td>AUD</td>\n",
       "      <td>Australia</td>\n",
       "      <td>6.10</td>\n",
       "      <td>1.401640</td>\n",
       "      <td>4.352045</td>\n",
       "      <td>55692.730</td>\n",
       "      <td>4.945273</td>\n",
       "      <td>-0.192</td>\n",
       "      <td>-0.213</td>\n",
       "      <td>-0.080</td>\n",
       "      <td>0.028</td>\n",
       "      <td>-0.160</td>\n",
       "    </tr>\n",
       "    <tr>\n",
       "      <th>556</th>\n",
       "      <td>2019-01-01</td>\n",
       "      <td>BRA</td>\n",
       "      <td>BRL</td>\n",
       "      <td>Brazil</td>\n",
       "      <td>16.90</td>\n",
       "      <td>3.717950</td>\n",
       "      <td>4.545516</td>\n",
       "      <td>9895.765</td>\n",
       "      <td>2.968028</td>\n",
       "      <td>0.406</td>\n",
       "      <td>0.370</td>\n",
       "      <td>0.601</td>\n",
       "      <td>0.789</td>\n",
       "      <td>0.463</td>\n",
       "    </tr>\n",
       "    <tr>\n",
       "      <th>557</th>\n",
       "      <td>2019-01-01</td>\n",
       "      <td>GBR</td>\n",
       "      <td>GBP</td>\n",
       "      <td>Britain</td>\n",
       "      <td>3.19</td>\n",
       "      <td>0.783208</td>\n",
       "      <td>4.072992</td>\n",
       "      <td>39800.274</td>\n",
       "      <td>4.259130</td>\n",
       "      <td>-0.122</td>\n",
       "      <td>-0.145</td>\n",
       "      <td>0.000</td>\n",
       "      <td>0.117</td>\n",
       "      <td>-0.087</td>\n",
       "    </tr>\n",
       "    <tr>\n",
       "      <th>558</th>\n",
       "      <td>2019-01-01</td>\n",
       "      <td>CAN</td>\n",
       "      <td>CAD</td>\n",
       "      <td>Canada</td>\n",
       "      <td>6.77</td>\n",
       "      <td>1.331400</td>\n",
       "      <td>5.084873</td>\n",
       "      <td>45094.605</td>\n",
       "      <td>4.487708</td>\n",
       "      <td>0.040</td>\n",
       "      <td>0.013</td>\n",
       "      <td>0.185</td>\n",
       "      <td>0.323</td>\n",
       "      <td>0.082</td>\n",
       "    </tr>\n",
       "  </tbody>\n",
       "</table>\n",
       "</div>"
      ],
      "text/plain": [
       "          date iso_a3 currency_code       name  local_price  dollar_ex  \\\n",
       "554 2019-01-01    ARG           ARS  Argentina        75.00  37.455000   \n",
       "555 2019-01-01    AUS           AUD  Australia         6.10   1.401640   \n",
       "556 2019-01-01    BRA           BRL     Brazil        16.90   3.717950   \n",
       "557 2019-01-01    GBR           GBP    Britain         3.19   0.783208   \n",
       "558 2019-01-01    CAN           CAD     Canada         6.77   1.331400   \n",
       "\n",
       "     dollar_price  GDP_dollar  adj_price    USD    EUR    GBP    JPY    CNY  \n",
       "554      2.002403   14462.920   3.165211 -0.419 -0.434 -0.338 -0.261 -0.396  \n",
       "555      4.352045   55692.730   4.945273 -0.192 -0.213 -0.080  0.028 -0.160  \n",
       "556      4.545516    9895.765   2.968028  0.406  0.370  0.601  0.789  0.463  \n",
       "557      4.072992   39800.274   4.259130 -0.122 -0.145  0.000  0.117 -0.087  \n",
       "558      5.084873   45094.605   4.487708  0.040  0.013  0.185  0.323  0.082  "
      ]
     },
     "execution_count": 5,
     "metadata": {},
     "output_type": "execute_result"
    }
   ],
   "source": [
    "df=df[(df['date'].dt.year==2019) & (df['date'].dt.month==1)]\n",
    "df.head()"
   ]
  },
  {
   "cell_type": "code",
   "execution_count": 6,
   "metadata": {},
   "outputs": [
    {
     "data": {
      "text/plain": [
       "<seaborn.axisgrid.FacetGrid at 0xb501978>"
      ]
     },
     "execution_count": 6,
     "metadata": {},
     "output_type": "execute_result"
    },
    {
     "data": {
      "image/png": "[encoded data removed]",
      "text/plain": [
       "<Figure size 360x360 with 1 Axes>"
      ]
     },
     "metadata": {
      "image/png": {
       "height": 351,
       "width": 351
      },
      "needs_background": "light"
     },
     "output_type": "display_data"
    }
   ],
   "source": [
    "sns.lmplot(x='GDP_dollar', y='dollar_price', data=df, ci=None)"
   ]
  },
  {
   "cell_type": "code",
   "execution_count": 7,
   "metadata": {},
   "outputs": [
    {
     "data": {
      "image/png": "[encoded data removed]",
      "text/plain": [
       "<Figure size 432x432 with 3 Axes>"
      ]
     },
     "metadata": {
      "image/png": {
       "height": 423,
       "width": 414
      },
      "needs_background": "light"
     },
     "output_type": "display_data"
    }
   ],
   "source": [
    "sns.jointplot(x='GDP_dollar', y='dollar_price', data=df, kind='reg', ci=None, color='green');"
   ]
  },
  {
   "cell_type": "code",
   "execution_count": 8,
   "metadata": {},
   "outputs": [],
   "source": [
    "import sklearn\n",
    "from sklearn.linear_model import LinearRegression"
   ]
  },
  {
   "cell_type": "code",
   "execution_count": 9,
   "metadata": {},
   "outputs": [
    {
     "name": "stdout",
     "output_type": "stream",
     "text": [
      "sklearn version: 0.21.2\n"
     ]
    }
   ],
   "source": [
    "print(f'sklearn version: {sklearn.__version__}')"
   ]
  },
  {
   "cell_type": "code",
   "execution_count": 10,
   "metadata": {},
   "outputs": [
    {
     "data": {
      "text/plain": [
       "LinearRegression(copy_X=True, fit_intercept=True, n_jobs=None, normalize=False)"
      ]
     },
     "execution_count": 10,
     "metadata": {},
     "output_type": "execute_result"
    }
   ],
   "source": [
    "model = LinearRegression()\n",
    "model"
   ]
  },
  {
   "cell_type": "code",
   "execution_count": 11,
   "metadata": {},
   "outputs": [],
   "source": [
    "X=df[['GDP_dollar']]\n",
    "y=df.dollar_price"
   ]
  },
  {
   "cell_type": "code",
   "execution_count": 12,
   "metadata": {},
   "outputs": [
    {
     "data": {
      "text/plain": [
       "LinearRegression(copy_X=True, fit_intercept=True, n_jobs=None, normalize=False)"
      ]
     },
     "execution_count": 12,
     "metadata": {},
     "output_type": "execute_result"
    }
   ],
   "source": [
    "model.fit(X,y)"
   ]
  },
  {
   "cell_type": "code",
   "execution_count": 13,
   "metadata": {},
   "outputs": [
    {
     "data": {
      "text/plain": [
       "0.6312750690042251"
      ]
     },
     "execution_count": 13,
     "metadata": {},
     "output_type": "execute_result"
    }
   ],
   "source": [
    "model.score(X,y)"
   ]
  },
  {
   "cell_type": "code",
   "execution_count": 14,
   "metadata": {},
   "outputs": [
    {
     "data": {
      "text/plain": [
       "2.432727161471293"
      ]
     },
     "execution_count": 14,
     "metadata": {},
     "output_type": "execute_result"
    }
   ],
   "source": [
    "model.intercept_"
   ]
  },
  {
   "cell_type": "code",
   "execution_count": 15,
   "metadata": {},
   "outputs": [
    {
     "data": {
      "text/plain": [
       "array([4.36961383e-05])"
      ]
     },
     "execution_count": 15,
     "metadata": {},
     "output_type": "execute_result"
    }
   ],
   "source": [
    "model.coef_"
   ]
  },
  {
   "cell_type": "code",
   "execution_count": 16,
   "metadata": {},
   "outputs": [
    {
     "data": {
      "text/plain": [
       "array([2.82599241])"
      ]
     },
     "execution_count": 16,
     "metadata": {},
     "output_type": "execute_result"
    }
   ],
   "source": [
    "model.intercept_ + model.coef_ * 9000"
   ]
  },
  {
   "cell_type": "code",
   "execution_count": 17,
   "metadata": {},
   "outputs": [
    {
     "data": {
      "text/plain": [
       "array([2.82599241])"
      ]
     },
     "execution_count": 17,
     "metadata": {},
     "output_type": "execute_result"
    }
   ],
   "source": [
    "model.predict([[9000]])"
   ]
  },
  {
   "cell_type": "code",
   "execution_count": 18,
   "metadata": {},
   "outputs": [
    {
     "data": {
      "text/plain": [
       "array([2.82599241, 4.18057269])"
      ]
     },
     "execution_count": 18,
     "metadata": {},
     "output_type": "execute_result"
    }
   ],
   "source": [
    "model.predict([[9000], \n",
    "               [40000]])"
   ]
  },
  {
   "cell_type": "code",
   "execution_count": 19,
   "metadata": {},
   "outputs": [
    {
     "data": {
      "text/plain": [
       "array([ 5000,  7500, 10000, 12500, 15000, 17500, 20000, 22500, 25000,\n",
       "       27500, 30000, 32500, 35000, 37500, 40000, 42500, 45000, 47500,\n",
       "       50000])"
      ]
     },
     "execution_count": 19,
     "metadata": {},
     "output_type": "execute_result"
    }
   ],
   "source": [
    "np.arange(5000, 50001, 2500)"
   ]
  },
  {
   "cell_type": "code",
   "execution_count": 20,
   "metadata": {},
   "outputs": [
    {
     "data": {
      "text/plain": [
       "array([[ 5000.        ],\n",
       "       [ 7368.47368421],\n",
       "       [ 9736.94736842],\n",
       "       [12105.42105263],\n",
       "       [14473.89473684],\n",
       "       [16842.36842105],\n",
       "       [19210.84210526],\n",
       "       [21579.31578947],\n",
       "       [23947.78947368],\n",
       "       [26316.26315789],\n",
       "       [28684.73684211],\n",
       "       [31053.21052632],\n",
       "       [33421.68421053],\n",
       "       [35790.15789474],\n",
       "       [38158.63157895],\n",
       "       [40527.10526316],\n",
       "       [42895.57894737],\n",
       "       [45264.05263158],\n",
       "       [47632.52631579],\n",
       "       [50001.        ]])"
      ]
     },
     "execution_count": 20,
     "metadata": {},
     "output_type": "execute_result"
    }
   ],
   "source": [
    "np.linspace(5000, 50001, 20).reshape(-1, 1)"
   ]
  },
  {
   "cell_type": "code",
   "execution_count": 21,
   "metadata": {},
   "outputs": [
    {
     "data": {
      "text/plain": [
       "array([2.65120785, 2.75470101, 2.85819416, 2.96168731, 3.06518047,\n",
       "       3.16867362, 3.27216677, 3.37565993, 3.47915308, 3.58264624,\n",
       "       3.68613939, 3.78963254, 3.8931257 , 3.99661885, 4.100112  ,\n",
       "       4.20360516, 4.30709831, 4.41059146, 4.51408462, 4.61757777])"
      ]
     },
     "execution_count": 21,
     "metadata": {},
     "output_type": "execute_result"
    }
   ],
   "source": [
    "model.predict(np.linspace(5000, 50001, 20).reshape(-1, 1))"
   ]
  },
  {
   "cell_type": "code",
   "execution_count": 22,
   "metadata": {},
   "outputs": [
    {
     "data": {
      "text/plain": [
       "0      5000.000000\n",
       "1      7368.473684\n",
       "2      9736.947368\n",
       "3     12105.421053\n",
       "4     14473.894737\n",
       "5     16842.368421\n",
       "6     19210.842105\n",
       "7     21579.315789\n",
       "8     23947.789474\n",
       "9     26316.263158\n",
       "10    28684.736842\n",
       "11    31053.210526\n",
       "12    33421.684211\n",
       "13    35790.157895\n",
       "14    38158.631579\n",
       "15    40527.105263\n",
       "16    42895.578947\n",
       "17    45264.052632\n",
       "18    47632.526316\n",
       "19    50001.000000\n",
       "dtype: float64"
      ]
     },
     "execution_count": 22,
     "metadata": {},
     "output_type": "execute_result"
    }
   ],
   "source": [
    "s=pd.Series(np.linspace(5000, 50001, 20))\n",
    "s"
   ]
  },
  {
   "cell_type": "code",
   "execution_count": 23,
   "metadata": {},
   "outputs": [
    {
     "data": {
      "text/plain": [
       "array([2.65120785, 2.75470101, 2.85819416, 2.96168731, 3.06518047,\n",
       "       3.16867362, 3.27216677, 3.37565993, 3.47915308, 3.58264624,\n",
       "       3.68613939, 3.78963254, 3.8931257 , 3.99661885, 4.100112  ,\n",
       "       4.20360516, 4.30709831, 4.41059146, 4.51408462, 4.61757777])"
      ]
     },
     "execution_count": 23,
     "metadata": {},
     "output_type": "execute_result"
    }
   ],
   "source": [
    "model.predict(s.to_frame())"
   ]
  },
  {
   "cell_type": "code",
   "execution_count": 24,
   "metadata": {},
   "outputs": [
    {
     "data": {
      "text/html": [
       "<div>\n",
       "<style scoped>\n",
       "    .dataframe tbody tr th:only-of-type {\n",
       "        vertical-align: middle;\n",
       "    }\n",
       "\n",
       "    .dataframe tbody tr th {\n",
       "        vertical-align: top;\n",
       "    }\n",
       "\n",
       "    .dataframe thead th {\n",
       "        text-align: right;\n",
       "    }\n",
       "</style>\n",
       "<table border=\"1\" class=\"dataframe\">\n",
       "  <thead>\n",
       "    <tr style=\"text-align: right;\">\n",
       "      <th></th>\n",
       "      <th>gdp</th>\n",
       "    </tr>\n",
       "  </thead>\n",
       "  <tbody>\n",
       "    <tr>\n",
       "      <th>0</th>\n",
       "      <td>5000.000000</td>\n",
       "    </tr>\n",
       "    <tr>\n",
       "      <th>1</th>\n",
       "      <td>7368.473684</td>\n",
       "    </tr>\n",
       "    <tr>\n",
       "      <th>2</th>\n",
       "      <td>9736.947368</td>\n",
       "    </tr>\n",
       "    <tr>\n",
       "      <th>3</th>\n",
       "      <td>12105.421053</td>\n",
       "    </tr>\n",
       "    <tr>\n",
       "      <th>4</th>\n",
       "      <td>14473.894737</td>\n",
       "    </tr>\n",
       "    <tr>\n",
       "      <th>5</th>\n",
       "      <td>16842.368421</td>\n",
       "    </tr>\n",
       "    <tr>\n",
       "      <th>6</th>\n",
       "      <td>19210.842105</td>\n",
       "    </tr>\n",
       "    <tr>\n",
       "      <th>7</th>\n",
       "      <td>21579.315789</td>\n",
       "    </tr>\n",
       "    <tr>\n",
       "      <th>8</th>\n",
       "      <td>23947.789474</td>\n",
       "    </tr>\n",
       "    <tr>\n",
       "      <th>9</th>\n",
       "      <td>26316.263158</td>\n",
       "    </tr>\n",
       "    <tr>\n",
       "      <th>10</th>\n",
       "      <td>28684.736842</td>\n",
       "    </tr>\n",
       "    <tr>\n",
       "      <th>11</th>\n",
       "      <td>31053.210526</td>\n",
       "    </tr>\n",
       "    <tr>\n",
       "      <th>12</th>\n",
       "      <td>33421.684211</td>\n",
       "    </tr>\n",
       "    <tr>\n",
       "      <th>13</th>\n",
       "      <td>35790.157895</td>\n",
       "    </tr>\n",
       "    <tr>\n",
       "      <th>14</th>\n",
       "      <td>38158.631579</td>\n",
       "    </tr>\n",
       "    <tr>\n",
       "      <th>15</th>\n",
       "      <td>40527.105263</td>\n",
       "    </tr>\n",
       "    <tr>\n",
       "      <th>16</th>\n",
       "      <td>42895.578947</td>\n",
       "    </tr>\n",
       "    <tr>\n",
       "      <th>17</th>\n",
       "      <td>45264.052632</td>\n",
       "    </tr>\n",
       "    <tr>\n",
       "      <th>18</th>\n",
       "      <td>47632.526316</td>\n",
       "    </tr>\n",
       "    <tr>\n",
       "      <th>19</th>\n",
       "      <td>50001.000000</td>\n",
       "    </tr>\n",
       "  </tbody>\n",
       "</table>\n",
       "</div>"
      ],
      "text/plain": [
       "             gdp\n",
       "0    5000.000000\n",
       "1    7368.473684\n",
       "2    9736.947368\n",
       "3   12105.421053\n",
       "4   14473.894737\n",
       "5   16842.368421\n",
       "6   19210.842105\n",
       "7   21579.315789\n",
       "8   23947.789474\n",
       "9   26316.263158\n",
       "10  28684.736842\n",
       "11  31053.210526\n",
       "12  33421.684211\n",
       "13  35790.157895\n",
       "14  38158.631579\n",
       "15  40527.105263\n",
       "16  42895.578947\n",
       "17  45264.052632\n",
       "18  47632.526316\n",
       "19  50001.000000"
      ]
     },
     "execution_count": 24,
     "metadata": {},
     "output_type": "execute_result"
    }
   ],
   "source": [
    "dx=pd.DataFrame(np.linspace(5000, 50001, 20), columns=['gdp'])\n",
    "dx"
   ]
  },
  {
   "cell_type": "code",
   "execution_count": 25,
   "metadata": {},
   "outputs": [
    {
     "data": {
      "text/plain": [
       "array([2.65120785, 2.75470101, 2.85819416, 2.96168731, 3.06518047,\n",
       "       3.16867362, 3.27216677, 3.37565993, 3.47915308, 3.58264624,\n",
       "       3.68613939, 3.78963254, 3.8931257 , 3.99661885, 4.100112  ,\n",
       "       4.20360516, 4.30709831, 4.41059146, 4.51408462, 4.61757777])"
      ]
     },
     "execution_count": 25,
     "metadata": {},
     "output_type": "execute_result"
    }
   ],
   "source": [
    "model.predict(dx)"
   ]
  },
  {
   "cell_type": "code",
   "execution_count": 26,
   "metadata": {},
   "outputs": [],
   "source": [
    "import statsmodels.api as sm\n",
    "import statsmodels.formula.api as smf"
   ]
  },
  {
   "cell_type": "code",
   "execution_count": 27,
   "metadata": {},
   "outputs": [],
   "source": [
    "model_a = smf.ols(formula='dollar_price ~ GDP_dollar', data=df).fit()"
   ]
  },
  {
   "cell_type": "code",
   "execution_count": 28,
   "metadata": {},
   "outputs": [
    {
     "name": "stdout",
     "output_type": "stream",
     "text": [
      "                            OLS Regression Results                            \n",
      "==============================================================================\n",
      "Dep. Variable:           dollar_price   R-squared:                       0.631\n",
      "Model:                            OLS   Adj. R-squared:                  0.621\n",
      "Method:                 Least Squares   F-statistic:                     59.92\n",
      "Date:                Mon, 24 Jun 2019   Prob (F-statistic):           4.34e-09\n",
      "Time:                        13:25:10   Log-Likelihood:                -41.445\n",
      "No. Observations:                  37   AIC:                             86.89\n",
      "Df Residuals:                      35   BIC:                             90.11\n",
      "Df Model:                           1                                         \n",
      "Covariance Type:            nonrobust                                         \n",
      "==============================================================================\n",
      "                 coef    std err          t      P>|t|      [0.025      0.975]\n",
      "------------------------------------------------------------------------------\n",
      "Intercept      2.4327      0.195     12.479      0.000       2.037       2.828\n",
      "GDP_dollar   4.37e-05   5.64e-06      7.741      0.000    3.22e-05    5.52e-05\n",
      "==============================================================================\n",
      "Omnibus:                        0.604   Durbin-Watson:                   2.059\n",
      "Prob(Omnibus):                  0.739   Jarque-Bera (JB):                0.312\n",
      "Skew:                          -0.225   Prob(JB):                        0.856\n",
      "Kurtosis:                       2.983   Cond. No.                     5.37e+04\n",
      "==============================================================================\n",
      "\n",
      "Warnings:\n",
      "[1] Standard Errors assume that the covariance matrix of the errors is correctly specified.\n",
      "[2] The condition number is large, 5.37e+04. This might indicate that there are\n",
      "strong multicollinearity or other numerical problems.\n"
     ]
    }
   ],
   "source": [
    "print(model_a.summary())"
   ]
  },
  {
   "cell_type": "code",
   "execution_count": 29,
   "metadata": {},
   "outputs": [
    {
     "data": {
      "text/plain": [
       "Intercept     1.915703e-14\n",
       "GDP_dollar    4.338811e-09\n",
       "dtype: float64"
      ]
     },
     "execution_count": 29,
     "metadata": {},
     "output_type": "execute_result"
    }
   ],
   "source": [
    "model_a.pvalues"
   ]
  },
  {
   "cell_type": "code",
   "execution_count": 30,
   "metadata": {},
   "outputs": [
    {
     "data": {
      "text/plain": [
       "2.432727161471293"
      ]
     },
     "execution_count": 30,
     "metadata": {},
     "output_type": "execute_result"
    }
   ],
   "source": [
    "model.intercept_"
   ]
  },
  {
   "cell_type": "code",
   "execution_count": 31,
   "metadata": {},
   "outputs": [
    {
     "data": {
      "text/plain": [
       "array([4.36961383e-05])"
      ]
     },
     "execution_count": 31,
     "metadata": {},
     "output_type": "execute_result"
    }
   ],
   "source": [
    "model.coef_"
   ]
  },
  {
   "cell_type": "code",
   "execution_count": 34,
   "metadata": {},
   "outputs": [
    {
     "ename": "IndexError",
     "evalue": "index 1 is out of bounds for axis 0 with size 1",
     "output_type": "error",
     "traceback": [
      "\u001b[1;31m---------------------------------------------------------------------------\u001b[0m",
      "\u001b[1;31mIndexError\u001b[0m                                Traceback (most recent call last)",
      "\u001b[1;32m<ipython-input-34-fefd62a2f44a>\u001b[0m in \u001b[0;36m<module>\u001b[1;34m\u001b[0m\n\u001b[1;32m----> 1\u001b[1;33m \u001b[0mprint\u001b[0m\u001b[1;33m(\u001b[0m\u001b[1;34mf'{model.coef_[1]:.7f}'\u001b[0m\u001b[1;33m)\u001b[0m\u001b[1;33m\u001b[0m\u001b[1;33m\u001b[0m\u001b[0m\n\u001b[0m",
      "\u001b[1;31mIndexError\u001b[0m: index 1 is out of bounds for axis 0 with size 1"
     ]
    }
   ],
   "source": [
    "print(f'{model.coef_[0]:.7f}')"
   ]
  },
  {
   "cell_type": "code",
   "execution_count": null,
   "metadata": {},
   "outputs": [],
   "source": []
  }
 ],
 "metadata": {
  "kernelspec": {
   "display_name": "Python 3",
   "language": "python",
   "name": "python3"
  },
  "language_info": {
   "codemirror_mode": {
    "name": "ipython",
    "version": 3
   },
   "file_extension": ".py",
   "mimetype": "text/x-python",
   "name": "python",
   "nbconvert_exporter": "python",
   "pygments_lexer": "ipython3",
   "version": "3.7.3"
  }
 },
 "nbformat": 4,
 "nbformat_minor": 2
}
